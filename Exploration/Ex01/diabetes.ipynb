{
 "cells": [
  {
   "cell_type": "markdown",
   "id": "6efd2273",
   "metadata": {},
   "source": [
    "# 9-1. 프로젝트 1 : 손수 설계하는 선형회귀, 당뇨병 수치를 맞춰보자!"
   ]
  },
  {
   "cell_type": "markdown",
   "id": "077f86c6",
   "metadata": {},
   "source": [
    "## 성취 목표\n",
    "- 모델 설계, 손실함수 정의와 기울기 계산을 구현"
   ]
  },
  {
   "cell_type": "markdown",
   "id": "7f2087bc",
   "metadata": {},
   "source": [
    "## 1. 데이터 가져오기"
   ]
  },
  {
   "cell_type": "code",
   "execution_count": 1,
   "id": "3e37c566",
   "metadata": {},
   "outputs": [],
   "source": [
    "import numpy as np\n",
    "import pandas as pd\n",
    "from sklearn.datasets import load_diabetes"
   ]
  },
  {
   "cell_type": "code",
   "execution_count": 2,
   "id": "ac090ad1",
   "metadata": {},
   "outputs": [],
   "source": [
    "diabetes_loaded = load_diabetes()"
   ]
  },
  {
   "cell_type": "code",
   "execution_count": 3,
   "id": "f21f50cf",
   "metadata": {},
   "outputs": [],
   "source": [
    "X = diabetes_loaded.data\n",
    "y = diabetes_loaded.target"
   ]
  },
  {
   "cell_type": "code",
   "execution_count": 4,
   "id": "22a131ea",
   "metadata": {
    "scrolled": true
   },
   "outputs": [
    {
     "data": {
      "text/html": [
       "<div>\n",
       "<style scoped>\n",
       "    .dataframe tbody tr th:only-of-type {\n",
       "        vertical-align: middle;\n",
       "    }\n",
       "\n",
       "    .dataframe tbody tr th {\n",
       "        vertical-align: top;\n",
       "    }\n",
       "\n",
       "    .dataframe thead th {\n",
       "        text-align: right;\n",
       "    }\n",
       "</style>\n",
       "<table border=\"1\" class=\"dataframe\">\n",
       "  <thead>\n",
       "    <tr style=\"text-align: right;\">\n",
       "      <th></th>\n",
       "      <th>age</th>\n",
       "      <th>sex</th>\n",
       "      <th>bmi</th>\n",
       "      <th>bp</th>\n",
       "      <th>s1</th>\n",
       "      <th>s2</th>\n",
       "      <th>s3</th>\n",
       "      <th>s4</th>\n",
       "      <th>s5</th>\n",
       "      <th>s6</th>\n",
       "    </tr>\n",
       "  </thead>\n",
       "  <tbody>\n",
       "    <tr>\n",
       "      <th>0</th>\n",
       "      <td>0.038076</td>\n",
       "      <td>0.050680</td>\n",
       "      <td>0.061696</td>\n",
       "      <td>0.021872</td>\n",
       "      <td>-0.044223</td>\n",
       "      <td>-0.034821</td>\n",
       "      <td>-0.043401</td>\n",
       "      <td>-0.002592</td>\n",
       "      <td>0.019908</td>\n",
       "      <td>-0.017646</td>\n",
       "    </tr>\n",
       "    <tr>\n",
       "      <th>1</th>\n",
       "      <td>-0.001882</td>\n",
       "      <td>-0.044642</td>\n",
       "      <td>-0.051474</td>\n",
       "      <td>-0.026328</td>\n",
       "      <td>-0.008449</td>\n",
       "      <td>-0.019163</td>\n",
       "      <td>0.074412</td>\n",
       "      <td>-0.039493</td>\n",
       "      <td>-0.068330</td>\n",
       "      <td>-0.092204</td>\n",
       "    </tr>\n",
       "    <tr>\n",
       "      <th>2</th>\n",
       "      <td>0.085299</td>\n",
       "      <td>0.050680</td>\n",
       "      <td>0.044451</td>\n",
       "      <td>-0.005671</td>\n",
       "      <td>-0.045599</td>\n",
       "      <td>-0.034194</td>\n",
       "      <td>-0.032356</td>\n",
       "      <td>-0.002592</td>\n",
       "      <td>0.002864</td>\n",
       "      <td>-0.025930</td>\n",
       "    </tr>\n",
       "    <tr>\n",
       "      <th>3</th>\n",
       "      <td>-0.089063</td>\n",
       "      <td>-0.044642</td>\n",
       "      <td>-0.011595</td>\n",
       "      <td>-0.036656</td>\n",
       "      <td>0.012191</td>\n",
       "      <td>0.024991</td>\n",
       "      <td>-0.036038</td>\n",
       "      <td>0.034309</td>\n",
       "      <td>0.022692</td>\n",
       "      <td>-0.009362</td>\n",
       "    </tr>\n",
       "    <tr>\n",
       "      <th>4</th>\n",
       "      <td>0.005383</td>\n",
       "      <td>-0.044642</td>\n",
       "      <td>-0.036385</td>\n",
       "      <td>0.021872</td>\n",
       "      <td>0.003935</td>\n",
       "      <td>0.015596</td>\n",
       "      <td>0.008142</td>\n",
       "      <td>-0.002592</td>\n",
       "      <td>-0.031991</td>\n",
       "      <td>-0.046641</td>\n",
       "    </tr>\n",
       "  </tbody>\n",
       "</table>\n",
       "</div>"
      ],
      "text/plain": [
       "        age       sex       bmi        bp        s1        s2        s3  \\\n",
       "0  0.038076  0.050680  0.061696  0.021872 -0.044223 -0.034821 -0.043401   \n",
       "1 -0.001882 -0.044642 -0.051474 -0.026328 -0.008449 -0.019163  0.074412   \n",
       "2  0.085299  0.050680  0.044451 -0.005671 -0.045599 -0.034194 -0.032356   \n",
       "3 -0.089063 -0.044642 -0.011595 -0.036656  0.012191  0.024991 -0.036038   \n",
       "4  0.005383 -0.044642 -0.036385  0.021872  0.003935  0.015596  0.008142   \n",
       "\n",
       "         s4        s5        s6  \n",
       "0 -0.002592  0.019908 -0.017646  \n",
       "1 -0.039493 -0.068330 -0.092204  \n",
       "2 -0.002592  0.002864 -0.025930  \n",
       "3  0.034309  0.022692 -0.009362  \n",
       "4 -0.002592 -0.031991 -0.046641  "
      ]
     },
     "metadata": {},
     "output_type": "display_data"
    },
    {
     "name": "stdout",
     "output_type": "stream",
     "text": [
      "(442, 10)\n"
     ]
    }
   ],
   "source": [
    "# ndarray -> DataFrame\n",
    "df_X = pd.DataFrame(data=X, columns=diabetes_loaded.feature_names)\n",
    "display(df_X.head())\n",
    "print(df_X.shape)"
   ]
  },
  {
   "cell_type": "code",
   "execution_count": 5,
   "id": "224258ce",
   "metadata": {},
   "outputs": [
    {
     "data": {
      "text/html": [
       "<div>\n",
       "<style scoped>\n",
       "    .dataframe tbody tr th:only-of-type {\n",
       "        vertical-align: middle;\n",
       "    }\n",
       "\n",
       "    .dataframe tbody tr th {\n",
       "        vertical-align: top;\n",
       "    }\n",
       "\n",
       "    .dataframe thead th {\n",
       "        text-align: right;\n",
       "    }\n",
       "</style>\n",
       "<table border=\"1\" class=\"dataframe\">\n",
       "  <thead>\n",
       "    <tr style=\"text-align: right;\">\n",
       "      <th></th>\n",
       "      <th>diabetes</th>\n",
       "    </tr>\n",
       "  </thead>\n",
       "  <tbody>\n",
       "    <tr>\n",
       "      <th>0</th>\n",
       "      <td>151.0</td>\n",
       "    </tr>\n",
       "    <tr>\n",
       "      <th>1</th>\n",
       "      <td>75.0</td>\n",
       "    </tr>\n",
       "    <tr>\n",
       "      <th>2</th>\n",
       "      <td>141.0</td>\n",
       "    </tr>\n",
       "    <tr>\n",
       "      <th>3</th>\n",
       "      <td>206.0</td>\n",
       "    </tr>\n",
       "    <tr>\n",
       "      <th>4</th>\n",
       "      <td>135.0</td>\n",
       "    </tr>\n",
       "  </tbody>\n",
       "</table>\n",
       "</div>"
      ],
      "text/plain": [
       "   diabetes\n",
       "0     151.0\n",
       "1      75.0\n",
       "2     141.0\n",
       "3     206.0\n",
       "4     135.0"
      ]
     },
     "metadata": {},
     "output_type": "display_data"
    },
    {
     "name": "stdout",
     "output_type": "stream",
     "text": [
      "(442, 1)\n"
     ]
    }
   ],
   "source": [
    "df_y = pd.DataFrame(data=y, columns=[\"diabetes\"])\n",
    "display(df_y.head())\n",
    "print(df_y.shape)"
   ]
  },
  {
   "cell_type": "markdown",
   "id": "9496c638",
   "metadata": {},
   "source": [
    "## 2. 모델에 입력할 데이터 X 준비하기"
   ]
  },
  {
   "cell_type": "code",
   "execution_count": 6,
   "id": "74fcd393",
   "metadata": {},
   "outputs": [
    {
     "data": {
      "text/plain": [
       "numpy.ndarray"
      ]
     },
     "execution_count": 6,
     "metadata": {},
     "output_type": "execute_result"
    }
   ],
   "source": [
    "type(X)"
   ]
  },
  {
   "cell_type": "markdown",
   "id": "cb925aaf",
   "metadata": {},
   "source": [
    "## 3. 모델에 예측할 데이터 y 준비하기"
   ]
  },
  {
   "cell_type": "code",
   "execution_count": 7,
   "id": "4c7b4ef6",
   "metadata": {},
   "outputs": [
    {
     "data": {
      "text/plain": [
       "numpy.ndarray"
      ]
     },
     "execution_count": 7,
     "metadata": {},
     "output_type": "execute_result"
    }
   ],
   "source": [
    "type(y)"
   ]
  },
  {
   "cell_type": "markdown",
   "id": "f842e247",
   "metadata": {},
   "source": [
    "## 4. train 데이터와 test 데이터로 분리하기"
   ]
  },
  {
   "cell_type": "code",
   "execution_count": 8,
   "id": "3e647bb3",
   "metadata": {},
   "outputs": [],
   "source": [
    "from sklearn.model_selection import train_test_split\n",
    "\n",
    "X_train, X_test, y_train, y_test = train_test_split(X, y, test_size=0.2, random_state=43)"
   ]
  },
  {
   "cell_type": "markdown",
   "id": "85ed90f7",
   "metadata": {},
   "source": [
    "## 5. 모델 준비하기"
   ]
  },
  {
   "cell_type": "code",
   "execution_count": 9,
   "id": "5b83bbc6",
   "metadata": {
    "scrolled": true
   },
   "outputs": [
    {
     "data": {
      "text/plain": [
       "(array([0.4645523 , 0.29530541, 0.66747697, 0.22777052, 0.31703867,\n",
       "        0.66125358, 0.40149654, 0.60919726, 0.99086853, 0.86618563]),\n",
       " 0.9357056953536155)"
      ]
     },
     "execution_count": 9,
     "metadata": {},
     "output_type": "execute_result"
    }
   ],
   "source": [
    "W = np.random.rand(10)\n",
    "b = np.random.rand()\n",
    "\n",
    "W,b"
   ]
  },
  {
   "cell_type": "code",
   "execution_count": 10,
   "id": "68f0a651",
   "metadata": {},
   "outputs": [],
   "source": [
    "def model(X, W, b):\n",
    "    predictions = 0      # 변수 선언 & 초기화\n",
    "    for i in range(10):     # feature는 10개\n",
    "        predictions += X[:, i] * W[i]        # 한 feature의 데이터들과 가중치 곱\n",
    "    predictions += b\n",
    "    return predictions"
   ]
  },
  {
   "cell_type": "markdown",
   "id": "2d154239",
   "metadata": {},
   "source": [
    "## 6. 손실함수 loss 정의하기"
   ]
  },
  {
   "cell_type": "code",
   "execution_count": 11,
   "id": "67553120",
   "metadata": {},
   "outputs": [],
   "source": [
    "def MSE(y_true, y_pred):\n",
    "#     error = (y_true - y_pred)\n",
    "#     squared = error **2\n",
    "#     mean_ = np.mean(squared)\n",
    "    mse = np.mean((y_true-y_pred)**2)\n",
    "    return mse"
   ]
  },
  {
   "cell_type": "code",
   "execution_count": 12,
   "id": "d27ed0da",
   "metadata": {},
   "outputs": [],
   "source": [
    "def loss(X, W, b, y):\n",
    "    predictions = model(X, W, b)\n",
    "    L = MSE(predictions, y)\n",
    "    return L"
   ]
  },
  {
   "cell_type": "markdown",
   "id": "2889e075",
   "metadata": {},
   "source": [
    "## 7. 기울기를 구하는 gradient 함수 구현하기"
   ]
  },
  {
   "cell_type": "code",
   "execution_count": 13,
   "id": "5adefb20",
   "metadata": {},
   "outputs": [],
   "source": [
    "def gradient(X, W, b, y):\n",
    "    # 데이터 갯수\n",
    "    N = len(y)\n",
    "    \n",
    "    # y_pred\n",
    "    y_pred = model(X, W, b)\n",
    "    \n",
    "    dW = 1/N * 2 * X.T.dot(y_pred -y)\n",
    "    \n",
    "    db = np.mean(2 * (y_pred - y))\n",
    "    \n",
    "    return dW, db\n",
    "    "
   ]
  },
  {
   "cell_type": "markdown",
   "id": "33f55606",
   "metadata": {},
   "source": [
    "## 8. 하이퍼 파라미터인 학습률 설정하기"
   ]
  },
  {
   "cell_type": "code",
   "execution_count": 14,
   "id": "c0af0fd6",
   "metadata": {},
   "outputs": [],
   "source": [
    "LEARNING_RATE = 0.5"
   ]
  },
  {
   "cell_type": "markdown",
   "id": "292f335c",
   "metadata": {},
   "source": [
    "## 9. 모델 학습하기"
   ]
  },
  {
   "cell_type": "code",
   "execution_count": 15,
   "id": "22a7d223",
   "metadata": {},
   "outputs": [
    {
     "name": "stdout",
     "output_type": "stream",
     "text": [
      "Iteration 100 : Loss 4012.8600\n",
      "Iteration 200 : Loss 3490.7103\n",
      "Iteration 300 : Loss 3264.7036\n",
      "Iteration 400 : Loss 3138.2297\n",
      "Iteration 500 : Loss 3060.0176\n",
      "Iteration 600 : Loss 3009.9298\n",
      "Iteration 700 : Loss 2977.3506\n",
      "Iteration 800 : Loss 2955.9370\n",
      "Iteration 900 : Loss 2941.7292\n",
      "Iteration 1000 : Loss 2932.2122\n",
      "Iteration 1100 : Loss 2925.7723\n",
      "Iteration 1200 : Loss 2921.3667\n",
      "Iteration 1300 : Loss 2918.3164\n",
      "Iteration 1400 : Loss 2916.1768\n",
      "Iteration 1500 : Loss 2914.6541\n",
      "Iteration 1600 : Loss 2913.5534\n",
      "Iteration 1700 : Loss 2912.7439\n",
      "Iteration 1800 : Loss 2912.1375\n",
      "Iteration 1900 : Loss 2911.6741\n",
      "Iteration 2000 : Loss 2911.3126\n",
      "Iteration 2100 : Loss 2911.0243\n",
      "Iteration 2200 : Loss 2910.7893\n",
      "Iteration 2300 : Loss 2910.5934\n",
      "Iteration 2400 : Loss 2910.4265\n",
      "Iteration 2500 : Loss 2910.2814\n",
      "Iteration 2600 : Loss 2910.1527\n",
      "Iteration 2700 : Loss 2910.0365\n",
      "Iteration 2800 : Loss 2909.9300\n",
      "Iteration 2900 : Loss 2909.8310\n",
      "Iteration 3000 : Loss 2909.7378\n",
      "Iteration 3100 : Loss 2909.6492\n",
      "Iteration 3200 : Loss 2909.5642\n",
      "Iteration 3300 : Loss 2909.4822\n",
      "Iteration 3400 : Loss 2909.4025\n",
      "Iteration 3500 : Loss 2909.3247\n",
      "Iteration 3600 : Loss 2909.2484\n",
      "Iteration 3700 : Loss 2909.1735\n",
      "Iteration 3800 : Loss 2909.0996\n",
      "Iteration 3900 : Loss 2909.0267\n",
      "Iteration 4000 : Loss 2908.9545\n",
      "Iteration 4100 : Loss 2908.8829\n",
      "Iteration 4200 : Loss 2908.8120\n",
      "Iteration 4300 : Loss 2908.7415\n",
      "Iteration 4400 : Loss 2908.6715\n",
      "Iteration 4500 : Loss 2908.6020\n",
      "Iteration 4600 : Loss 2908.5328\n",
      "Iteration 4700 : Loss 2908.4639\n",
      "Iteration 4800 : Loss 2908.3954\n",
      "Iteration 4900 : Loss 2908.3272\n",
      "Iteration 5000 : Loss 2908.2593\n",
      "Iteration 5100 : Loss 2908.1917\n",
      "Iteration 5200 : Loss 2908.1243\n",
      "Iteration 5300 : Loss 2908.0572\n",
      "Iteration 5400 : Loss 2907.9903\n",
      "Iteration 5500 : Loss 2907.9237\n",
      "Iteration 5600 : Loss 2907.8574\n",
      "Iteration 5700 : Loss 2907.7913\n",
      "Iteration 5800 : Loss 2907.7254\n",
      "Iteration 5900 : Loss 2907.6597\n",
      "Iteration 6000 : Loss 2907.5943\n",
      "Iteration 6100 : Loss 2907.5291\n",
      "Iteration 6200 : Loss 2907.4642\n",
      "Iteration 6300 : Loss 2907.3994\n",
      "Iteration 6400 : Loss 2907.3349\n",
      "Iteration 6500 : Loss 2907.2706\n",
      "Iteration 6600 : Loss 2907.2065\n",
      "Iteration 6700 : Loss 2907.1427\n",
      "Iteration 6800 : Loss 2907.0790\n",
      "Iteration 6900 : Loss 2907.0156\n",
      "Iteration 7000 : Loss 2906.9524\n",
      "Iteration 7100 : Loss 2906.8894\n",
      "Iteration 7200 : Loss 2906.8266\n",
      "Iteration 7300 : Loss 2906.7641\n",
      "Iteration 7400 : Loss 2906.7017\n",
      "Iteration 7500 : Loss 2906.6396\n",
      "Iteration 7600 : Loss 2906.5776\n",
      "Iteration 7700 : Loss 2906.5159\n",
      "Iteration 7800 : Loss 2906.4544\n",
      "Iteration 7900 : Loss 2906.3931\n",
      "Iteration 8000 : Loss 2906.3320\n",
      "Iteration 8100 : Loss 2906.2711\n",
      "Iteration 8200 : Loss 2906.2104\n",
      "Iteration 8300 : Loss 2906.1499\n",
      "Iteration 8400 : Loss 2906.0897\n",
      "Iteration 8500 : Loss 2906.0296\n",
      "Iteration 8600 : Loss 2905.9697\n",
      "Iteration 8700 : Loss 2905.9101\n",
      "Iteration 8800 : Loss 2905.8506\n",
      "Iteration 8900 : Loss 2905.7913\n",
      "Iteration 9000 : Loss 2905.7323\n",
      "Iteration 9100 : Loss 2905.6734\n",
      "Iteration 9200 : Loss 2905.6148\n",
      "Iteration 9300 : Loss 2905.5563\n",
      "Iteration 9400 : Loss 2905.4980\n",
      "Iteration 9500 : Loss 2905.4400\n",
      "Iteration 9600 : Loss 2905.3821\n",
      "Iteration 9700 : Loss 2905.3244\n",
      "Iteration 9800 : Loss 2905.2669\n",
      "Iteration 9900 : Loss 2905.2096\n"
     ]
    }
   ],
   "source": [
    "losses = []\n",
    "\n",
    "for i in range(1, 10000):\n",
    "    dW, db = gradient(X_train, W, b, y_train)\n",
    "    W -= LEARNING_RATE * dW\n",
    "    b -= LEARNING_RATE * db\n",
    "    L = loss(X_train, W, b, y_train)\n",
    "    losses.append(L)\n",
    "    \n",
    "    # 학습 경과 출력\n",
    "    if i % 100 == 0:\n",
    "        print('Iteration %d : Loss %0.4f' % (i, L))\n"
   ]
  },
  {
   "cell_type": "markdown",
   "id": "123a788a",
   "metadata": {},
   "source": [
    "## 10. test 데이터에 대한 성능 확인하기"
   ]
  },
  {
   "cell_type": "code",
   "execution_count": 16,
   "id": "ecd0be68",
   "metadata": {},
   "outputs": [
    {
     "data": {
      "text/plain": [
       "(array([ -62.24052391, -223.9402382 ,  535.40020584,  257.12741318,\n",
       "        -152.17704422,  -67.09954564, -148.39969615,  156.90632798,\n",
       "         579.45961333,   37.28262132]),\n",
       " 152.1862238177471)"
      ]
     },
     "execution_count": 16,
     "metadata": {},
     "output_type": "execute_result"
    }
   ],
   "source": [
    "W, b"
   ]
  },
  {
   "cell_type": "code",
   "execution_count": 17,
   "id": "3e732abb",
   "metadata": {},
   "outputs": [
    {
     "data": {
      "text/plain": [
       "2881.8013532363025"
      ]
     },
     "execution_count": 17,
     "metadata": {},
     "output_type": "execute_result"
    }
   ],
   "source": [
    "prediction = model(X_test, W, b)\n",
    "mse = MSE(y_test, prediction)\n",
    "mse"
   ]
  },
  {
   "cell_type": "markdown",
   "id": "fdd6e5c9",
   "metadata": {},
   "source": [
    "## 11. 정답 데이터와 예측한 데이터 시각화하기"
   ]
  },
  {
   "cell_type": "code",
   "execution_count": 18,
   "id": "adaada0a",
   "metadata": {},
   "outputs": [
    {
     "data": {
      "image/png": "[encoded data removed]",
      "text/plain": [
       "<Figure size 432x288 with 1 Axes>"
      ]
     },
     "metadata": {
      "needs_background": "light"
     },
     "output_type": "display_data"
    }
   ],
   "source": [
    "import matplotlib.pyplot as plt\n",
    "plt.scatter(X_test[:, 0], y_test)\n",
    "plt.scatter(X_test[:, 0], prediction)\n",
    "plt.show()"
   ]
  },
  {
   "cell_type": "code",
   "execution_count": null,
   "id": "029f82aa",
   "metadata": {},
   "outputs": [],
   "source": []
  }
 ],
 "metadata": {
  "kernelspec": {
   "display_name": "Python 3 (ipykernel)",
   "language": "python",
   "name": "python3"
  },
  "language_info": {
   "codemirror_mode": {
    "name": "ipython",
    "version": 3
   },
   "file_extension": ".py",
   "mimetype": "text/x-python",
   "name": "python",
   "nbconvert_exporter": "python",
   "pygments_lexer": "ipython3",
   "version": "3.9.7"
  }
 },
 "nbformat": 4,
 "nbformat_minor": 5
}
