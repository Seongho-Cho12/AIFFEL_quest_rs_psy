{
 "cells": [
  {
   "cell_type": "markdown",
   "id": "26a625e8",
   "metadata": {},
   "source": [
    "# 9-1. 프로젝트 1 : 손수 설계하는 선형회귀, 당뇨병 수치를 맞춰보자!"
   ]
  },
  {
   "cell_type": "markdown",
   "id": "8a6ddf13",
   "metadata": {},
   "source": [
    "## 성취 목표\n",
    "- 모델 설계, 손실함수 정의와 기울기 계산을 구현"
   ]
  },
  {
   "cell_type": "markdown",
   "id": "ad45955a",
   "metadata": {},
   "source": [
    "## 1. 데이터 가져오기"
   ]
  },
  {
   "cell_type": "code",
   "execution_count": 1,
   "id": "b3e01b9b",
   "metadata": {},
   "outputs": [],
   "source": [
    "import numpy as np\n",
    "import pandas as pd\n",
    "from sklearn.datasets import load_diabetes"
   ]
  },
  {
   "cell_type": "code",
   "execution_count": 2,
   "id": "2749f28a",
   "metadata": {},
   "outputs": [],
   "source": [
    "# 데이터 가져오기\n",
    "diabetes_loaded = load_diabetes()"
   ]
  },
  {
   "cell_type": "code",
   "execution_count": 3,
   "id": "8db9ffbc",
   "metadata": {},
   "outputs": [],
   "source": [
    "X = diabetes_loaded.data\n",
    "y = diabetes_loaded.target"
   ]
  },
  {
   "cell_type": "code",
   "execution_count": 4,
   "id": "e1fb1239",
   "metadata": {
    "scrolled": true
   },
   "outputs": [
    {
     "data": {
      "text/html": [
       "<div>\n",
       "<style scoped>\n",
       "    .dataframe tbody tr th:only-of-type {\n",
       "        vertical-align: middle;\n",
       "    }\n",
       "\n",
       "    .dataframe tbody tr th {\n",
       "        vertical-align: top;\n",
       "    }\n",
       "\n",
       "    .dataframe thead th {\n",
       "        text-align: right;\n",
       "    }\n",
       "</style>\n",
       "<table border=\"1\" class=\"dataframe\">\n",
       "  <thead>\n",
       "    <tr style=\"text-align: right;\">\n",
       "      <th></th>\n",
       "      <th>age</th>\n",
       "      <th>sex</th>\n",
       "      <th>bmi</th>\n",
       "      <th>bp</th>\n",
       "      <th>s1</th>\n",
       "      <th>s2</th>\n",
       "      <th>s3</th>\n",
       "      <th>s4</th>\n",
       "      <th>s5</th>\n",
       "      <th>s6</th>\n",
       "    </tr>\n",
       "  </thead>\n",
       "  <tbody>\n",
       "    <tr>\n",
       "      <th>0</th>\n",
       "      <td>0.038076</td>\n",
       "      <td>0.050680</td>\n",
       "      <td>0.061696</td>\n",
       "      <td>0.021872</td>\n",
       "      <td>-0.044223</td>\n",
       "      <td>-0.034821</td>\n",
       "      <td>-0.043401</td>\n",
       "      <td>-0.002592</td>\n",
       "      <td>0.019908</td>\n",
       "      <td>-0.017646</td>\n",
       "    </tr>\n",
       "    <tr>\n",
       "      <th>1</th>\n",
       "      <td>-0.001882</td>\n",
       "      <td>-0.044642</td>\n",
       "      <td>-0.051474</td>\n",
       "      <td>-0.026328</td>\n",
       "      <td>-0.008449</td>\n",
       "      <td>-0.019163</td>\n",
       "      <td>0.074412</td>\n",
       "      <td>-0.039493</td>\n",
       "      <td>-0.068330</td>\n",
       "      <td>-0.092204</td>\n",
       "    </tr>\n",
       "    <tr>\n",
       "      <th>2</th>\n",
       "      <td>0.085299</td>\n",
       "      <td>0.050680</td>\n",
       "      <td>0.044451</td>\n",
       "      <td>-0.005671</td>\n",
       "      <td>-0.045599</td>\n",
       "      <td>-0.034194</td>\n",
       "      <td>-0.032356</td>\n",
       "      <td>-0.002592</td>\n",
       "      <td>0.002864</td>\n",
       "      <td>-0.025930</td>\n",
       "    </tr>\n",
       "    <tr>\n",
       "      <th>3</th>\n",
       "      <td>-0.089063</td>\n",
       "      <td>-0.044642</td>\n",
       "      <td>-0.011595</td>\n",
       "      <td>-0.036656</td>\n",
       "      <td>0.012191</td>\n",
       "      <td>0.024991</td>\n",
       "      <td>-0.036038</td>\n",
       "      <td>0.034309</td>\n",
       "      <td>0.022692</td>\n",
       "      <td>-0.009362</td>\n",
       "    </tr>\n",
       "    <tr>\n",
       "      <th>4</th>\n",
       "      <td>0.005383</td>\n",
       "      <td>-0.044642</td>\n",
       "      <td>-0.036385</td>\n",
       "      <td>0.021872</td>\n",
       "      <td>0.003935</td>\n",
       "      <td>0.015596</td>\n",
       "      <td>0.008142</td>\n",
       "      <td>-0.002592</td>\n",
       "      <td>-0.031991</td>\n",
       "      <td>-0.046641</td>\n",
       "    </tr>\n",
       "  </tbody>\n",
       "</table>\n",
       "</div>"
      ],
      "text/plain": [
       "        age       sex       bmi        bp        s1        s2        s3  \\\n",
       "0  0.038076  0.050680  0.061696  0.021872 -0.044223 -0.034821 -0.043401   \n",
       "1 -0.001882 -0.044642 -0.051474 -0.026328 -0.008449 -0.019163  0.074412   \n",
       "2  0.085299  0.050680  0.044451 -0.005671 -0.045599 -0.034194 -0.032356   \n",
       "3 -0.089063 -0.044642 -0.011595 -0.036656  0.012191  0.024991 -0.036038   \n",
       "4  0.005383 -0.044642 -0.036385  0.021872  0.003935  0.015596  0.008142   \n",
       "\n",
       "         s4        s5        s6  \n",
       "0 -0.002592  0.019908 -0.017646  \n",
       "1 -0.039493 -0.068330 -0.092204  \n",
       "2 -0.002592  0.002864 -0.025930  \n",
       "3  0.034309  0.022692 -0.009362  \n",
       "4 -0.002592 -0.031991 -0.046641  "
      ]
     },
     "metadata": {},
     "output_type": "display_data"
    },
    {
     "name": "stdout",
     "output_type": "stream",
     "text": [
      "(442, 10)\n"
     ]
    }
   ],
   "source": [
    "# ndarray -> DataFrame\n",
    "df_X = pd.DataFrame(data=X, columns=diabetes_loaded.feature_names)\n",
    "display(df_X.head())\n",
    "print(df_X.shape)"
   ]
  },
  {
   "cell_type": "code",
   "execution_count": 5,
   "id": "a3af4a07",
   "metadata": {},
   "outputs": [
    {
     "data": {
      "text/html": [
       "<div>\n",
       "<style scoped>\n",
       "    .dataframe tbody tr th:only-of-type {\n",
       "        vertical-align: middle;\n",
       "    }\n",
       "\n",
       "    .dataframe tbody tr th {\n",
       "        vertical-align: top;\n",
       "    }\n",
       "\n",
       "    .dataframe thead th {\n",
       "        text-align: right;\n",
       "    }\n",
       "</style>\n",
       "<table border=\"1\" class=\"dataframe\">\n",
       "  <thead>\n",
       "    <tr style=\"text-align: right;\">\n",
       "      <th></th>\n",
       "      <th>diabetes</th>\n",
       "    </tr>\n",
       "  </thead>\n",
       "  <tbody>\n",
       "    <tr>\n",
       "      <th>0</th>\n",
       "      <td>151.0</td>\n",
       "    </tr>\n",
       "    <tr>\n",
       "      <th>1</th>\n",
       "      <td>75.0</td>\n",
       "    </tr>\n",
       "    <tr>\n",
       "      <th>2</th>\n",
       "      <td>141.0</td>\n",
       "    </tr>\n",
       "    <tr>\n",
       "      <th>3</th>\n",
       "      <td>206.0</td>\n",
       "    </tr>\n",
       "    <tr>\n",
       "      <th>4</th>\n",
       "      <td>135.0</td>\n",
       "    </tr>\n",
       "  </tbody>\n",
       "</table>\n",
       "</div>"
      ],
      "text/plain": [
       "   diabetes\n",
       "0     151.0\n",
       "1      75.0\n",
       "2     141.0\n",
       "3     206.0\n",
       "4     135.0"
      ]
     },
     "metadata": {},
     "output_type": "display_data"
    },
    {
     "name": "stdout",
     "output_type": "stream",
     "text": [
      "(442, 1)\n"
     ]
    }
   ],
   "source": [
    "df_y = pd.DataFrame(data=y, columns=[\"diabetes\"])\n",
    "display(df_y.head())\n",
    "print(df_y.shape)"
   ]
  },
  {
   "cell_type": "markdown",
   "id": "02db1d85",
   "metadata": {},
   "source": [
    "## 2. 모델에 입력할 데이터 X 준비하기"
   ]
  },
  {
   "cell_type": "code",
   "execution_count": 6,
   "id": "b57d4e3b",
   "metadata": {},
   "outputs": [
    {
     "data": {
      "text/plain": [
       "numpy.ndarray"
      ]
     },
     "execution_count": 6,
     "metadata": {},
     "output_type": "execute_result"
    }
   ],
   "source": [
    "type(X)"
   ]
  },
  {
   "cell_type": "markdown",
   "id": "944749c9",
   "metadata": {},
   "source": [
    "## 3. 모델에 예측할 데이터 y 준비하기"
   ]
  },
  {
   "cell_type": "code",
   "execution_count": 7,
   "id": "fe066e12",
   "metadata": {},
   "outputs": [
    {
     "data": {
      "text/plain": [
       "numpy.ndarray"
      ]
     },
     "execution_count": 7,
     "metadata": {},
     "output_type": "execute_result"
    }
   ],
   "source": [
    "type(y)"
   ]
  },
  {
   "cell_type": "markdown",
   "id": "16c47e43",
   "metadata": {},
   "source": [
    "## 4. train 데이터와 test 데이터로 분리하기"
   ]
  },
  {
   "cell_type": "code",
   "execution_count": 8,
   "id": "2c993bd3",
   "metadata": {},
   "outputs": [],
   "source": [
    "from sklearn.model_selection import train_test_split\n",
    "\n",
    "# train, test 분리\n",
    "X_train, X_test, y_train, y_test = train_test_split(X, y, test_size=0.2, random_state=43)"
   ]
  },
  {
   "cell_type": "markdown",
   "id": "51277385",
   "metadata": {},
   "source": [
    "## 5. 모델 준비하기"
   ]
  },
  {
   "cell_type": "code",
   "execution_count": 9,
   "id": "4bc6a7fc",
   "metadata": {
    "scrolled": true
   },
   "outputs": [
    {
     "data": {
      "text/plain": [
       "(array([0.82485286, 0.25888767, 0.47402085, 0.14300859, 0.18402438,\n",
       "        0.80414213, 0.90748381, 0.90991309, 0.43419212, 0.05975782]),\n",
       " 0.9487334921968927)"
      ]
     },
     "execution_count": 9,
     "metadata": {},
     "output_type": "execute_result"
    }
   ],
   "source": [
    "# 임의의 W, b 설정\n",
    "W = np.random.rand(10)\n",
    "b = np.random.rand()\n",
    "\n",
    "W,b"
   ]
  },
  {
   "cell_type": "code",
   "execution_count": 10,
   "id": "45182fe4",
   "metadata": {},
   "outputs": [],
   "source": [
    "# 모델 함수 생성\n",
    "def model(X, W, b):\n",
    "    predictions = 0      # 변수 선언 & 초기화\n",
    "    for i in range(10):     # feature는 10개\n",
    "        predictions += X[:, i] * W[i]        # 한 feature의 데이터들과 가중치 곱\n",
    "    predictions += b\n",
    "    return predictions"
   ]
  },
  {
   "cell_type": "markdown",
   "id": "be060f92",
   "metadata": {},
   "source": [
    "## 6. 손실함수 loss 정의하기"
   ]
  },
  {
   "cell_type": "code",
   "execution_count": 11,
   "id": "309756f3",
   "metadata": {},
   "outputs": [],
   "source": [
    "# MSE 함수 정의\n",
    "def MSE(y_true, y_pred):\n",
    "#     error = (y_true - y_pred)\n",
    "#     squared = error **2\n",
    "#     mean_ = np.mean(squared)\n",
    "    mse = np.mean((y_true-y_pred)**2)\n",
    "    return mse"
   ]
  },
  {
   "cell_type": "code",
   "execution_count": 12,
   "id": "8a4d4357",
   "metadata": {},
   "outputs": [],
   "source": [
    "# loss 함수 정의\n",
    "def loss(X, W, b, y):\n",
    "    predictions = model(X, W, b)\n",
    "    L = MSE(predictions, y)\n",
    "    return L"
   ]
  },
  {
   "cell_type": "markdown",
   "id": "f45d1aac",
   "metadata": {},
   "source": [
    "## 7. 기울기를 구하는 gradient 함수 구현하기"
   ]
  },
  {
   "cell_type": "code",
   "execution_count": 13,
   "id": "a6bc11f9",
   "metadata": {},
   "outputs": [],
   "source": [
    "# gradiendt 정의\n",
    "def gradient(X, W, b, y):\n",
    "    # 데이터 갯수\n",
    "    N = len(y)\n",
    "    \n",
    "    # y_pred\n",
    "    y_pred = model(X, W, b)\n",
    "    \n",
    "    dW = 1/N * 2 * X.T.dot(y_pred -y)     #  W에 대한 해석적 미분, T하는 이유? 각 feature에 대한 항등의 곱이기 때문, 행렬에서 곱해야 하는 항 생각\n",
    "    \n",
    "    db = np.mean(2 * (y_pred - y))     # b에 대한 해석적 미분\n",
    "    \n",
    "    return dW, db\n",
    "    "
   ]
  },
  {
   "cell_type": "markdown",
   "id": "c7ee3eef",
   "metadata": {},
   "source": [
    "## 8. 하이퍼 파라미터인 학습률 설정하기"
   ]
  },
  {
   "cell_type": "code",
   "execution_count": 14,
   "id": "29f0937f",
   "metadata": {},
   "outputs": [],
   "source": [
    "# 학습률 설정, 현재 W, b에서 다음 W, b를 설정할 때 얼만큼씩 조정할지 설정\n",
    "LEARNING_RATE = 0.0001"
   ]
  },
  {
   "cell_type": "markdown",
   "id": "3afb171b",
   "metadata": {},
   "source": [
    "## 9. 모델 학습하기"
   ]
  },
  {
   "cell_type": "code",
   "execution_count": 15,
   "id": "58c9d4e3",
   "metadata": {},
   "outputs": [
    {
     "name": "stdout",
     "output_type": "stream",
     "text": [
      "Iteration 100 : Loss 27897.0745\n",
      "Iteration 200 : Loss 27031.5365\n",
      "Iteration 300 : Loss 26199.9133\n",
      "Iteration 400 : Loss 25400.8749\n",
      "Iteration 500 : Loss 24633.1434\n",
      "Iteration 600 : Loss 23895.4913\n",
      "Iteration 700 : Loss 23186.7388\n",
      "Iteration 800 : Loss 22505.7528\n",
      "Iteration 900 : Loss 21851.4444\n"
     ]
    }
   ],
   "source": [
    "losses = []\n",
    "\n",
    "for i in range(1, 1000):\n",
    "    dW, db = gradient(X_train, W, b, y_train)    # rgradient 구하기\n",
    "    W -= LEARNING_RATE * dW           # 다음 W로 조정\n",
    "    b -= LEARNING_RATE * db           # 다음 b로 조정\n",
    "    L = loss(X_train, W, b, y_train)   # loss 구하기\n",
    "    losses.append(L)                   \n",
    "    \n",
    "    # 학습 경과 출력\n",
    "    if i % 100 == 0:\n",
    "        print('Iteration %d : Loss %0.4f' % (i, L))\n"
   ]
  },
  {
   "cell_type": "markdown",
   "id": "a76e5b3b",
   "metadata": {},
   "source": [
    "### LEARNING_RATE 조정"
   ]
  },
  {
   "cell_type": "code",
   "execution_count": 16,
   "id": "6ef6282f",
   "metadata": {},
   "outputs": [
    {
     "name": "stdout",
     "output_type": "stream",
     "text": [
      "Iteration 100 : Loss 16143.3547\n",
      "Iteration 200 : Loss 12733.4945\n",
      "Iteration 300 : Loss 10446.4521\n",
      "Iteration 400 : Loss 8911.7591\n",
      "Iteration 500 : Loss 7881.1837\n",
      "Iteration 600 : Loss 7188.3986\n",
      "Iteration 700 : Loss 6721.9564\n",
      "Iteration 800 : Loss 6407.1818\n",
      "Iteration 900 : Loss 6194.0389\n"
     ]
    }
   ],
   "source": [
    "# LEARNING_RATE 조정\n",
    "LEARNING_RATE = 0.001\n",
    "\n",
    "losses = []\n",
    "\n",
    "for i in range(1, 1000):\n",
    "    dW, db = gradient(X_train, W, b, y_train)    # rgradient 구하기\n",
    "    W -= LEARNING_RATE * dW           # 다음 W로 조정\n",
    "    b -= LEARNING_RATE * db           # 다음 b로 조정\n",
    "    L = loss(X_train, W, b, y_train)   # loss 구하기\n",
    "    losses.append(L)                   \n",
    "    \n",
    "    # 학습 경과 출력\n",
    "    if i % 100 == 0:\n",
    "        print('Iteration %d : Loss %0.4f' % (i, L))\n"
   ]
  },
  {
   "cell_type": "code",
   "execution_count": 17,
   "id": "cf48ea84",
   "metadata": {
    "scrolled": true
   },
   "outputs": [
    {
     "name": "stdout",
     "output_type": "stream",
     "text": [
      "Iteration 100 : Loss 5185.8709\n",
      "Iteration 200 : Loss 4755.1989\n",
      "Iteration 300 : Loss 4432.6096\n",
      "Iteration 400 : Loss 4187.4226\n",
      "Iteration 500 : Loss 3998.0429\n",
      "Iteration 600 : Loss 3849.2337\n",
      "Iteration 700 : Loss 3730.2112\n",
      "Iteration 800 : Loss 3633.3141\n",
      "Iteration 900 : Loss 3553.0729\n"
     ]
    }
   ],
   "source": [
    "# LEARNING_RATE 조정\n",
    "LEARNING_RATE = 0.1\n",
    "\n",
    "losses = []\n",
    "\n",
    "for i in range(1, 1000):\n",
    "    dW, db = gradient(X_train, W, b, y_train)    # rgradient 구하기\n",
    "    W -= LEARNING_RATE * dW           # 다음 W로 조정\n",
    "    b -= LEARNING_RATE * db           # 다음 b로 조정\n",
    "    L = loss(X_train, W, b, y_train)   # loss 구하기\n",
    "    losses.append(L)                   \n",
    "    \n",
    "    # 학습 경과 출력\n",
    "    if i % 100 == 0:\n",
    "        print('Iteration %d : Loss %0.4f' % (i, L))\n"
   ]
  },
  {
   "cell_type": "code",
   "execution_count": 18,
   "id": "d88f9ca3",
   "metadata": {},
   "outputs": [
    {
     "name": "stdout",
     "output_type": "stream",
     "text": [
      "Iteration 100 : Loss 3262.2152\n",
      "Iteration 200 : Loss 3136.6834\n",
      "Iteration 300 : Loss 3059.0144\n",
      "Iteration 400 : Loss 3009.2664\n",
      "Iteration 500 : Loss 2976.9061\n",
      "Iteration 600 : Loss 2955.6354\n",
      "Iteration 700 : Loss 2941.5220\n",
      "Iteration 800 : Loss 2932.0676\n",
      "Iteration 900 : Loss 2925.6697\n"
     ]
    }
   ],
   "source": [
    "# LEARNING_RATE 조정\n",
    "LEARNING_RATE = 0.5\n",
    "\n",
    "losses = []\n",
    "\n",
    "for i in range(1, 1000):\n",
    "    dW, db = gradient(X_train, W, b, y_train)    # rgradient 구하기\n",
    "    W -= LEARNING_RATE * dW           # 다음 W로 조정\n",
    "    b -= LEARNING_RATE * db           # 다음 b로 조정\n",
    "    L = loss(X_train, W, b, y_train)   # loss 구하기\n",
    "    losses.append(L)                   \n",
    "    \n",
    "    # 학습 경과 출력\n",
    "    if i % 100 == 0:\n",
    "        print('Iteration %d : Loss %0.4f' % (i, L))\n"
   ]
  },
  {
   "cell_type": "code",
   "execution_count": 19,
   "id": "5b73c0ab",
   "metadata": {},
   "outputs": [
    {
     "name": "stdout",
     "output_type": "stream",
     "text": [
      "Iteration 500 : Loss 2912.7296\n",
      "Iteration 1000 : Loss 2910.7796\n",
      "Iteration 1500 : Loss 2910.0279\n",
      "Iteration 2000 : Loss 2909.5559\n",
      "Iteration 2500 : Loss 2909.1654\n",
      "Iteration 3000 : Loss 2908.8040\n",
      "Iteration 3500 : Loss 2908.4561\n",
      "Iteration 4000 : Loss 2908.1166\n",
      "Iteration 4500 : Loss 2907.7837\n"
     ]
    }
   ],
   "source": [
    "# 학습 횟수 늘림 1000 -> 5000\n",
    "LEARNING_RATE = 0.5\n",
    "\n",
    "losses = []\n",
    "\n",
    "for i in range(1, 5000):\n",
    "    dW, db = gradient(X_train, W, b, y_train)    # rgradient 구하기\n",
    "    W -= LEARNING_RATE * dW           # 다음 W로 조정\n",
    "    b -= LEARNING_RATE * db           # 다음 b로 조정\n",
    "    L = loss(X_train, W, b, y_train)   # loss 구하기\n",
    "    losses.append(L)                   \n",
    "    \n",
    "    # 학습 경과 출력\n",
    "    if i % 500 == 0:\n",
    "        print('Iteration %d : Loss %0.4f' % (i, L))\n"
   ]
  },
  {
   "cell_type": "markdown",
   "id": "4d6ad602",
   "metadata": {},
   "source": [
    "## 10. test 데이터에 대한 성능 확인하기"
   ]
  },
  {
   "cell_type": "code",
   "execution_count": 20,
   "id": "90b89599",
   "metadata": {},
   "outputs": [
    {
     "data": {
      "text/plain": [
       "(array([ -62.36183012, -223.94043646,  535.78065892,  257.07083999,\n",
       "        -105.38787426, -104.93302967, -168.72662608,  152.42513256,\n",
       "         561.87800633,   37.53579795]),\n",
       " 152.1946461908102)"
      ]
     },
     "execution_count": 20,
     "metadata": {},
     "output_type": "execute_result"
    }
   ],
   "source": [
    "# 모델 학습으로 구한 W, b 확인하기\n",
    "W, b"
   ]
  },
  {
   "cell_type": "code",
   "execution_count": 21,
   "id": "e287936a",
   "metadata": {},
   "outputs": [
    {
     "data": {
      "text/plain": [
       "2885.1571635885043"
      ]
     },
     "execution_count": 21,
     "metadata": {},
     "output_type": "execute_result"
    }
   ],
   "source": [
    "# 학습된 모델로 테스트 데이터데 대해 예측\n",
    "prediction = model(X_test, W, b)\n",
    "\n",
    "# 평가\n",
    "mse = MSE(y_test, prediction)\n",
    "mse"
   ]
  },
  {
   "cell_type": "markdown",
   "id": "20011c25",
   "metadata": {},
   "source": [
    "## 11. 정답 데이터와 예측한 데이터 시각화하기"
   ]
  },
  {
   "cell_type": "code",
   "execution_count": 22,
   "id": "e1a1338b",
   "metadata": {},
   "outputs": [
    {
     "data": {
      "image/png": "[encoded data removed]",
      "text/plain": [
       "<Figure size 432x288 with 1 Axes>"
      ]
     },
     "metadata": {
      "needs_background": "light"
     },
     "output_type": "display_data"
    }
   ],
   "source": [
    "import matplotlib.pyplot as plt\n",
    "plt.scatter(X_test[:, 0], y_test)\n",
    "plt.scatter(X_test[:, 0], prediction)\n",
    "plt.show()"
   ]
  },
  {
   "cell_type": "markdown",
   "id": "6e9e9c5b",
   "metadata": {},
   "source": [
    "# 회고\n",
    "\n",
    "- `LEARNING_RATE`와 `학습횟수`를 잘 설정해야 컴퓨팅 자원을 적게 사용하면서, 최적의 모델 파라미터를 찾을 수 있을 것 같다.\n",
    "- 시간이 부족해, EDA를 충분히 해보지 못했고, 그에 따른 Feature Engineering을 시도해보지 못했다. -> 차후, EDA와 Feature Engineering를 추가해야 겠다."
   ]
  },
  {
   "cell_type": "code",
   "execution_count": null,
   "id": "254d6494",
   "metadata": {},
   "outputs": [],
   "source": []
  }
 ],
 "metadata": {
  "kernelspec": {
   "display_name": "Python 3 (ipykernel)",
   "language": "python",
   "name": "python3"
  },
  "language_info": {
   "codemirror_mode": {
    "name": "ipython",
    "version": 3
   },
   "file_extension": ".py",
   "mimetype": "text/x-python",
   "name": "python",
   "nbconvert_exporter": "python",
   "pygments_lexer": "ipython3",
   "version": "3.9.7"
  }
 },
 "nbformat": 4,
 "nbformat_minor": 5
}
